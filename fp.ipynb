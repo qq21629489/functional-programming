{
 "cells": [
  {
   "cell_type": "markdown",
   "metadata": {},
   "source": [
    "tutorial:\n",
    "https://ithelp.ithome.com.tw/articles/10243188\n",
    "https://openhome.cc/Gossip/CodeData/PythonTutorial/DataManagementFunctionsPy3.html\n",
    "https://openhome.cc/Gossip/CodeData/PythonTutorial/FunctionalProgrammingPy3."
   ]
  },
  {
   "cell_type": "markdown",
   "metadata": {},
   "source": [
    "Functional Programming(FP)\n",
    "target:\n",
    "1. 避免狀態相依、物件改變\n",
    "2. function should both be argument and return value\n",
    "3. be pure and immutable function not impure function to avoid side effect(global var, DOM, log, request...)"
   ]
  },
  {
   "cell_type": "markdown",
   "metadata": {},
   "source": [
    "eazy sample:"
   ]
  },
  {
   "cell_type": "code",
   "execution_count": 3,
   "metadata": {},
   "outputs": [
    {
     "name": "stdout",
     "output_type": "stream",
     "text": [
      "220\n",
      "220\n"
     ]
    }
   ],
   "source": [
    "# 資料源\n",
    "data = [1, 2, 3, 4, 5, 6, 7, 8, 9, 10]\n",
    "\n",
    "# 計算function\n",
    "# 將資料列為參數或內部值/狀態 >> pure function\n",
    "def sumEvenSquare(dataArray):\n",
    "    res = 0\n",
    "\n",
    "    for n in dataArray:\n",
    "        if n % 2 == 0:\n",
    "            res += n * n\n",
    "    \n",
    "    return res\n",
    "\n",
    "# 執行 >> 執行多次也不會影響\n",
    "# 使用 data[:] >> immutable function\n",
    "res1 = sumEvenSquare(data[:])\n",
    "print(res1) # 220\n",
    "res2 = sumEvenSquare(data[:])\n",
    "print(res2) # 220"
   ]
  },
  {
   "cell_type": "markdown",
   "metadata": {},
   "source": [
    "保持彈性，將運算做成proccess function >> higher order function (高階函數)"
   ]
  },
  {
   "cell_type": "code",
   "execution_count": 4,
   "metadata": {},
   "outputs": [
    {
     "name": "stdout",
     "output_type": "stream",
     "text": [
      "220\n"
     ]
    }
   ],
   "source": [
    "# 資料源\n",
    "data = [1, 2, 3, 4, 5, 6, 7, 8, 9, 10]\n",
    "\n",
    "def sum(proccessFn):\n",
    "    def inner(inputArray):\n",
    "        res = 0\n",
    "        for n in inputArray:\n",
    "            res += proccessFn(n)\n",
    "        return res\n",
    "    return inner\n",
    "\n",
    "# proccess function\n",
    "def evenSquare(item):\n",
    "    return item * item if item % 2 == 0 else 0\n",
    "\n",
    "# 組成function\n",
    "sumEvenSquare = sum(evenSquare)\n",
    "\n",
    "# 執行\n",
    "res = sumEvenSquare(data)\n",
    "print(res) # 220"
   ]
  },
  {
   "cell_type": "markdown",
   "metadata": {},
   "source": [
    "將proccess function使用lambda取代"
   ]
  },
  {
   "cell_type": "code",
   "execution_count": 5,
   "metadata": {},
   "outputs": [
    {
     "name": "stdout",
     "output_type": "stream",
     "text": [
      "220\n"
     ]
    }
   ],
   "source": [
    "data = [1, 2, 3, 4, 5, 6, 7, 8, 9, 10]\n",
    "\n",
    "def sum(proccessFn):\n",
    "    def inner(inputArray):\n",
    "        res = 0\n",
    "        for n in inputArray:\n",
    "            res += proccessFn(n)\n",
    "        return res\n",
    "    return inner\n",
    "\n",
    "res = sum(lambda n: n * n if n % 2 == 0 else 0)(data)\n",
    "print(res) # 220"
   ]
  },
  {
   "cell_type": "markdown",
   "metadata": {},
   "source": [
    "命令式 (Imperative) v.s 宣告式 (Declarative)\n",
    "命令式:強調的是執行過程，通常會暴露非常多細節，比較具象"
   ]
  },
  {
   "cell_type": "code",
   "execution_count": 6,
   "metadata": {},
   "outputs": [],
   "source": [
    "data = [1, 2, 3, 4, 5, 6, 7, 8, 9, 10]\n",
    "\n",
    "def sumEvenSquare(dataArray):\n",
    "    res = 0\n",
    "\n",
    "    for n in dataArray:\n",
    "        if n % 2 == 0:\n",
    "            res += n * n\n",
    "    \n",
    "    return res"
   ]
  },
  {
   "cell_type": "markdown",
   "metadata": {},
   "source": [
    "宣告式：強調的是執行結果，在思考過程中會隱藏細節，比較抽象"
   ]
  },
  {
   "cell_type": "code",
   "execution_count": 7,
   "metadata": {},
   "outputs": [
    {
     "name": "stdout",
     "output_type": "stream",
     "text": [
      "220\n",
      "220\n"
     ]
    }
   ],
   "source": [
    "import functools as ft\n",
    "\n",
    "data = [1, 2, 3, 4, 5, 6, 7, 8, 9, 10]\n",
    "\n",
    "def even(data):\n",
    "    return [*filter(lambda n : n % 2 == 0, data)]\n",
    "\n",
    "def square(data):\n",
    "    return [*map(lambda n : n * n, data)]\n",
    "\n",
    "def sum(data):\n",
    "    return ft.reduce(lambda s, n : s + n, data, 0)\n",
    "\n",
    "\n",
    "evenData = even(data)\n",
    "evenSquareData = square(evenData)\n",
    "sumResult = sum(evenSquareData)\n",
    "print(sumResult)\n",
    "\n",
    "# 若不逐一命名，可以\n",
    "res = ft.reduce(lambda s, n: s + n, \n",
    "        map(lambda n: n * n,\n",
    "        filter(lambda n : n % 2 == 0, data)), 0)\n",
    "print(res)"
   ]
  },
  {
   "cell_type": "markdown",
   "metadata": {},
   "source": [
    "Curry Function\n",
    "前情提要：function 本身可以當作另一個 function 的參數傳入，同時也能夠回傳一個新的 function。\n",
    "\n",
    "延伸：把「設定」和「資料」進行隔離！而這種 function 我們就稱為 Curry Function。\n",
    "\n",
    "Curry function 有一個非常大的作用，稱為惰性求值(lazy evaluation)，或稱為延遲評估。Lazy evaluation 的重點在於「盡可能延後進行複雜運算的行為」！以上面的例子來說，我們可以透過 add(n) 這種方法需要運算的 function 先行準備好 (此時還沒真的進行運算)，直到需要的時候，才將資料帶入運算。"
   ]
  },
  {
   "cell_type": "code",
   "execution_count": 8,
   "metadata": {},
   "outputs": [],
   "source": [
    "# a >> 設定\n",
    "# b >> 資料\n",
    "def add(a, b):\n",
    "    return a + b\n",
    "\n",
    "def add(num, data):\n",
    "    return num + data"
   ]
  },
  {
   "cell_type": "markdown",
   "metadata": {},
   "source": [
    "將設定與資料分開，建立一個設定的function，他會回傳一個function，並可以傳入我們要的資料"
   ]
  },
  {
   "cell_type": "code",
   "execution_count": 9,
   "metadata": {},
   "outputs": [],
   "source": [
    "def add(num):\n",
    "    def inner(data):\n",
    "        return num + data\n",
    "    return inner"
   ]
  },
  {
   "cell_type": "markdown",
   "metadata": {},
   "source": [
    "接下來就可以建立多個不同的fuinction"
   ]
  },
  {
   "cell_type": "code",
   "execution_count": 10,
   "metadata": {},
   "outputs": [],
   "source": [
    "pluseOne = add(1)\n",
    "pluseTwo = add(2)\n",
    "getNextId = add(1)"
   ]
  },
  {
   "cell_type": "markdown",
   "metadata": {},
   "source": [
    "把資料帶進去!"
   ]
  },
  {
   "cell_type": "code",
   "execution_count": 11,
   "metadata": {},
   "outputs": [
    {
     "name": "stdout",
     "output_type": "stream",
     "text": [
      "2\n",
      "3\n",
      "2\n"
     ]
    }
   ],
   "source": [
    "data = 1\n",
    "p1 = pluseOne(data)\n",
    "p2 = pluseTwo(data)\n",
    "nextId = pluseOne(data)\n",
    "\n",
    "print(p1) # 2\n",
    "print(p2) # 3\n",
    "print(nextId) # 2"
   ]
  },
  {
   "cell_type": "markdown",
   "metadata": {},
   "source": [
    "another example 平方 vs 立方"
   ]
  },
  {
   "cell_type": "code",
   "execution_count": 12,
   "metadata": {},
   "outputs": [
    {
     "name": "stdout",
     "output_type": "stream",
     "text": [
      "[1, 4, 9]\n",
      "[1, 8, 27]\n"
     ]
    }
   ],
   "source": [
    "data = [1, 2, 3]\n",
    "\n",
    "def power(num):\n",
    "    def inner(data):\n",
    "        return [*map(lambda x: pow(x, num), data)]\n",
    "    return inner\n",
    "\n",
    "square = power(2)\n",
    "cube = power(3)\n",
    "\n",
    "print(square(data))\n",
    "print(cube(data))"
   ]
  },
  {
   "cell_type": "markdown",
   "metadata": {},
   "source": [
    "加入偶數"
   ]
  },
  {
   "cell_type": "code",
   "execution_count": 13,
   "metadata": {},
   "outputs": [
    {
     "name": "stdout",
     "output_type": "stream",
     "text": [
      "4\n",
      "8\n"
     ]
    }
   ],
   "source": [
    "data = [1, 2, 3]\n",
    "\n",
    "def even(data):\n",
    "    return [*filter(lambda n : n % 2 == 0, data)]\n",
    "\n",
    "def sum(data):\n",
    "    return ft.reduce(lambda s, n : s + n, data, 0)\n",
    "\n",
    "def sumEvenPower(powerFn):\n",
    "    def inner(data):\n",
    "        evenData = even(data)\n",
    "        powerData = powerFn(evenData)\n",
    "        res = sum(powerData)\n",
    "        return res\n",
    "    return inner\n",
    "\n",
    "sumEvenSquare = sumEvenPower(square)\n",
    "sumEvencube = sumEvenPower(cube)\n",
    "\n",
    "print(sumEvenSquare(data))\n",
    "print(sumEvencube(data))"
   ]
  },
  {
   "cell_type": "markdown",
   "metadata": {},
   "source": [
    "去除過多的變數命名\n",
    "1. Compose function\n",
    "將整個運算流程會使用到的function組合起來作為參數傳入\n",
    "由於最裡面的function會優先執行，因此傳入的順序為倒續\n",
    "a(b(c(data))); // 實際上 c 會先被呼叫"
   ]
  },
  {
   "cell_type": "code",
   "execution_count": 18,
   "metadata": {},
   "outputs": [
    {
     "name": "stdout",
     "output_type": "stream",
     "text": [
      "4\n",
      "8\n"
     ]
    }
   ],
   "source": [
    "data = [1, 2, 3]\n",
    "\n",
    "def compose(functions):\n",
    "    def inner(data):\n",
    "        res = data\n",
    "        for fn in functions[::-1]:\n",
    "            res = fn(res)\n",
    "        return res\n",
    "    return inner\n",
    "\n",
    "def sumEvenPower(powerFn):\n",
    "    # def inner(data):\n",
    "    #     evenData = even(data)\n",
    "    #     powerData = powerFn(evenData)\n",
    "    #     res = sum(powerData)\n",
    "    #     return res\n",
    "    # return inner\n",
    "    return compose([sum, powerFn, even]) # 實際執行與傳入順序相反\n",
    "\n",
    "sumEvenSquare = sumEvenPower(square)\n",
    "sumEvencube = sumEvenPower(cube)\n",
    "\n",
    "print(sumEvenSquare(data))\n",
    "print(sumEvencube(data))"
   ]
  },
  {
   "cell_type": "markdown",
   "metadata": {},
   "source": [
    "閱讀優化 >> 管線化\n",
    "\n",
    "2. Pipe function"
   ]
  },
  {
   "cell_type": "code",
   "execution_count": 17,
   "metadata": {},
   "outputs": [
    {
     "name": "stdout",
     "output_type": "stream",
     "text": [
      "4\n",
      "8\n"
     ]
    }
   ],
   "source": [
    "data = [1, 2, 3]\n",
    "\n",
    "def pipe(functions):\n",
    "    def inner(data):\n",
    "        res = data\n",
    "        for fn in functions:\n",
    "            res = fn(res)\n",
    "        return res\n",
    "    return inner\n",
    "\n",
    "def sumEvenPower(powerFn):\n",
    "    # def inner(data):\n",
    "    #     evenData = even(data)\n",
    "    #     powerData = powerFn(evenData)\n",
    "    #     res = sum(powerData)\n",
    "    #     return res\n",
    "    # return inner\n",
    "    return pipe([even, powerFn, sum]) # 實際執行與傳入順序相同\n",
    "\n",
    "sumEvenSquare = sumEvenPower(square)\n",
    "sumEvencube = sumEvenPower(cube)\n",
    "\n",
    "print(sumEvenSquare(data))\n",
    "print(sumEvencube(data))"
   ]
  },
  {
   "cell_type": "markdown",
   "metadata": {},
   "source": [
    "將side effect(ex: log)隔離出來 >>\n",
    "\n",
    "Tap function"
   ]
  },
  {
   "cell_type": "code",
   "execution_count": 21,
   "metadata": {},
   "outputs": [
    {
     "name": "stdout",
     "output_type": "stream",
     "text": [
      "current data: [2]\n",
      "current data: [4]\n",
      "current data: 4\n",
      "4\n"
     ]
    }
   ],
   "source": [
    "data = [1, 2, 3]\n",
    "\n",
    "def pipe(functions):\n",
    "    def inner(data):\n",
    "        res = data\n",
    "        for fn in functions:\n",
    "            res = fn(res)\n",
    "        return res\n",
    "    return inner\n",
    "\n",
    "def tap(function):\n",
    "    def inner(data):\n",
    "        function(data)\n",
    "        return data\n",
    "    return inner\n",
    "\n",
    "def printData(data):\n",
    "    print(\"current data:\", data)\n",
    "\n",
    "def sumEvenPower(powerFn):\n",
    "    return pipe([\n",
    "        even,\n",
    "        tap(printData),\n",
    "        powerFn,\n",
    "        tap(printData),\n",
    "        sum,\n",
    "        tap(printData)])\n",
    "\n",
    "sumEvenSquare = sumEvenPower(square)\n",
    "\n",
    "print(sumEvenSquare(data))"
   ]
  }
 ],
 "metadata": {
  "kernelspec": {
   "display_name": "Python 3",
   "language": "python",
   "name": "python3"
  },
  "language_info": {
   "codemirror_mode": {
    "name": "ipython",
    "version": 3
   },
   "file_extension": ".py",
   "mimetype": "text/x-python",
   "name": "python",
   "nbconvert_exporter": "python",
   "pygments_lexer": "ipython3",
   "version": "3.10.6"
  }
 },
 "nbformat": 4,
 "nbformat_minor": 2
}
